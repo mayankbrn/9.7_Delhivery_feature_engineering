{
  "nbformat": 4,
  "nbformat_minor": 0,
  "metadata": {
    "colab": {
      "provenance": [],
      "toc_visible": true,
      "authorship_tag": "ABX9TyN834boiHkVK1Edo2UQVOPz",
      "include_colab_link": true
    },
    "kernelspec": {
      "name": "python3",
      "display_name": "Python 3"
    },
    "language_info": {
      "name": "python"
    }
  },
  "cells": [
    {
      "cell_type": "markdown",
      "metadata": {
        "id": "view-in-github",
        "colab_type": "text"
      },
      "source": [
        "<a href=\"https://colab.research.google.com/github/mayankbrn/9.7_Delhivery_feature_engineering/blob/MA_working/07_Delhivery_Feature_Engineering.ipynb\" target=\"_parent\"><img src=\"https://colab.research.google.com/assets/colab-badge.svg\" alt=\"Open In Colab\"/></a>"
      ]
    },
    {
      "cell_type": "markdown",
      "source": [
        "# Business Case: Delhivery - Feature Engineering\n",
        "\n"
      ],
      "metadata": {
        "id": "WQqFm8RlkpVK"
      }
    },
    {
      "cell_type": "markdown",
      "source": [
        "## About Delhivery"
      ],
      "metadata": {
        "id": "bnuaQkYimaM_"
      }
    },
    {
      "cell_type": "markdown",
      "source": [
        "Delhivery is the largest and fastest-growing fully integrated player in India by revenue in Fiscal 2021. They aim to build the operating system for commerce, through a combination of world-class infrastructure, logistics operations of the highest quality, and cutting-edge engineering and technology capabilities.\n",
        "\n",
        "The Data team builds intelligence and capabilities using this data that helps them to widen the gap between the quality, efficiency, and profitability of their business versus their competitors."
      ],
      "metadata": {
        "id": "0vEc7UzcnDAW"
      }
    },
    {
      "cell_type": "markdown",
      "source": [
        "### How can you help here?"
      ],
      "metadata": {
        "id": "gPO8U0_qnGng"
      }
    },
    {
      "cell_type": "markdown",
      "source": [
        "\n",
        "\n",
        "The company wants to understand and process the data coming out of data engineering pipelines:\n",
        "\n",
        "• Clean, sanitize and manipulate data to get useful features out of raw fields\n",
        "\n",
        "• Make sense out of the raw data and help the data science team to build forecasting models on it"
      ],
      "metadata": {
        "id": "4JcbsACenFIz"
      }
    },
    {
      "cell_type": "markdown",
      "source": [
        "### Dataset"
      ],
      "metadata": {
        "id": "KCqNzLz1mbSW"
      }
    },
    {
      "cell_type": "markdown",
      "source": [
        "Dataset Link: [Delhivery data](https://drive.google.com/file/d/1ZkF2gGCDkjwQgOTGVBpsqhPpSGg1Fybb/view?usp=drive_link)\n",
        "\n"
      ],
      "metadata": {
        "id": "1vucRBx9moOb"
      }
    },
    {
      "cell_type": "markdown",
      "source": [
        "### Column Profiling"
      ],
      "metadata": {
        "id": "CHzhCKa5mlGJ"
      }
    },
    {
      "cell_type": "markdown",
      "source": [
        "The dataset at the heart of this exploration includes a comprehensive listing of all the TV shows and movies available on Netflix. Here are some of the key features:\n",
        "- **data**: tells whether the data is testing or training data.\n",
        "- **trip_creation_time**: Timestamp of trip creation.\n",
        "- **route_schedule_uuid**: Unique Id for a particular route schedule.\n",
        "- **route_type**: Transportation type.\n",
        "- **FTL**: Full Truck Load - FTL shipments get to the destination sooner, as the truck is making no other pickups or drop-offs along the way.\n",
        "- **Carting**: Handling system consisting of small vehicles (carts).\n",
        "- **trip_uuid**: Unique ID given to a particular trip (A trip may include different source and destination centers).\n",
        "- **source_center**: Source ID of trip origin.\n",
        "- **source_name**: Source Name of trip origin.\n",
        "- **destination_center**: Destination ID.\n",
        "- **destination_name**: Destination Name.\n",
        "- **od_start_time**: Trip start time.\n",
        "- **od_end_time**: Trip end time.\n",
        "- **start_scan_to_end_scan**: Time taken to deliver from source to destination.\n",
        "- **is_cutoff**: Unknown field.\n",
        "- **cutoff_factor**: Unknown field.\n",
        "- **cutoff_timestamp**: Unknown field.\n",
        "- **actual_distance_to_destination**: Distance in Kms between source and destination warehouse.\n",
        "- **actual_time**: Actual time taken to complete the delivery (Cumulative).\n",
        "- **osrm_time**: An open-source routing engine time calculator which computes the shortest path between points in a given map (Includes usual traffic, distance through major and minor roads) and gives the time (Cumulative).\n",
        "- **osrm_distance**: An open-source routing engine which computes the shortest path between points in a given map (Includes usual traffic, distance through major and minor roads) (Cumulative).\n",
        "- **factor**: Unknown field.\n",
        "- **segment_actual_time**: This is a segment time. Time taken by the subset of the package delivery.\n",
        "- **segment_osrm_time**: This is the OSRM segment time. Time taken by the subset of the package delivery.\n",
        "- **segment_osrm_distance**: This is the OSRM distance. Distance covered by the subset of the package delivery.\n",
        "- **segment_factor**: Unknown field."
      ],
      "metadata": {
        "id": "TuGyTqjQnL78"
      }
    },
    {
      "cell_type": "markdown",
      "source": [
        "### Concepts Used"
      ],
      "metadata": {
        "id": "BF110DmSnntS"
      }
    },
    {
      "cell_type": "markdown",
      "source": [
        "- Feature Creation\n",
        "- Relationship between Features\n",
        "- Column Normalization /Column Standardization\n",
        "- Handling categorical values\n",
        "- Missing values - Outlier treatment / Types of outliers"
      ],
      "metadata": {
        "id": "dzVdT1PcnpcC"
      }
    },
    {
      "cell_type": "markdown",
      "source": [
        "### How to begin:"
      ],
      "metadata": {
        "id": "QrPn8zDUnxps"
      }
    },
    {
      "cell_type": "markdown",
      "source": [
        "Since delivery details of one package are divided into several rows (think of it as connecting flights to reach a particular destination). Now think about how we should treat their fields if we combine these rows? What aggregation would make sense if we merge. What would happen to the numeric fields if we merge the rows?"
      ],
      "metadata": {
        "id": "Zih0oXkgoQS1"
      }
    },
    {
      "cell_type": "markdown",
      "source": [
        "#### Hint:"
      ],
      "metadata": {
        "id": "Upzef4PzoiYN"
      }
    },
    {
      "cell_type": "markdown",
      "source": [
        "\n",
        "You can use inbuilt functions like `groupby` and aggregations like `sum()`, `cumsum()` to merge some rows based on their\n",
        "1. `Trip_uuid`, `Source ID` and `Destination ID`\n",
        "2. Further aggregate on the basis of just `Trip_uuid`. You can also keep the first and last values for some numeric/categorical fields if aggregating them won’t make sense."
      ],
      "metadata": {
        "id": "dEQmfCBRogyE"
      }
    },
    {
      "cell_type": "markdown",
      "source": [
        "#### Basic data cleaning and exploration:"
      ],
      "metadata": {
        "id": "bMYXzu-uocFV"
      }
    },
    {
      "cell_type": "markdown",
      "source": [
        "- Handle missing values in the data.\n",
        "- Analyze the structure of the data.\n",
        "- Try merging the rows using the hint mentioned above.\n",
        "- Build some features to prepare the data for actual analysis. Extract features from the below fields:\n",
        "  - **Destination Name**: Split and extract features out of destination. City-place-code (State)\n",
        "  - **Source Name**: Split and extract features out of destination. City-place-code (State)\n",
        "  - **Trip_creation_time**: Extract features like month, year and day etc"
      ],
      "metadata": {
        "id": "V5PV-jwcomDc"
      }
    },
    {
      "cell_type": "markdown",
      "source": [
        "#### In-depth analysis and feature engineering:"
      ],
      "metadata": {
        "id": "4qVmxagVod9m"
      }
    },
    {
      "cell_type": "markdown",
      "source": [
        "- Calculate the time taken between `od_start_time` and `od_end_time` and keep it as a feature. Drop the original columns, if required\n",
        "- Compare the difference between Point a. and `start_scan_to_end_scan`. Do hypothesis testing/ Visual analysis to check.\n",
        "- Do hypothesis testing/ visual analysis between `actual_time` aggregated value and `OSRM time` aggregated value (aggregated values are the values you’ll get after merging the rows on the basis of `trip_uuid`)\n",
        "- Do hypothesis testing/ visual analysis between `actual_time` aggregated value and `segment actual time` aggregated value (aggregated values are the values you’ll get after merging the rows on the basis of `trip_uuid`)\n",
        "- Do hypothesis testing/ visual analysis between `osrm distance` aggregated value and `segment osrm distance` aggregated value (aggregated values are the values you’ll get after merging the rows on the basis of `trip_uuid`)\n",
        "- Do hypothesis testing/ visual analysis between `osrm time` aggregated value and `segment osrm time` aggregated value (aggregated values are the values you’ll get after merging the rows on the basis of `trip_uuid`)\n",
        "- Find outliers in the numerical variables (you might find outliers in almost all the variables), and check it using visual analysis\n",
        "- Handle the outliers using the **IQR method**.\n",
        "- Do one-hot encoding of categorical variables (like `route_type`)\n",
        "- Normalize/ Standardize the numerical features using `MinMaxScaler` or `StandardScaler`."
      ],
      "metadata": {
        "id": "2Z5yQLiioqRc"
      }
    },
    {
      "cell_type": "markdown",
      "source": [
        "### Evaluation Criteria (100 Points):"
      ],
      "metadata": {
        "id": "ZqXP08vuowgt"
      }
    },
    {
      "cell_type": "markdown",
      "source": [
        "\n",
        "- Define Problem Statement and Perform Exploratory Data Analysis (10 points)\n",
        "\n",
        "  - **Definition of Problem** (as per given problem statement with additional views)\n",
        "  - **Observations** on:\n",
        "    - Shape of data\n",
        "    - Data types of all the attributes\n",
        "    - Conversion of categorical attributes to 'category' (if required)\n",
        "    - Missing value detection\n",
        "    - Statistical summary\n",
        "  - **Visual Analysis**:\n",
        "    - Distribution plots of all the continuous variable(s)\n",
        "    - Boxplots of all the categorical variables\n",
        "  - **Insights** based on EDA\n",
        "  - **Comments** on:\n",
        "    - Range of attributes\n",
        "    - Outliers of various attributes\n",
        "    - Distribution of the variables and relationship between them\n",
        "  - **Comments** for each univariate and bivariate plot\n",
        "\n",
        "- Feature Creation (10 Points)\n",
        "- Merging of Rows and Aggregation of Fields (10 Points)\n",
        "- Comparison & Visualization of Time and Distance Fields (10 Points)\n",
        "- Missing Values Treatment & Outlier Treatment (10 Points)\n",
        "- Checking Relationship Between Aggregated Fields (10 Points)\n",
        "- Handling Categorical Values (10 Points)\n",
        "- Column Normalization / Column Standardization (10 Points)\n",
        "\n",
        "- Business Insights (10 Points):\n",
        "  Should include patterns observed in the data along with what you can infer from it. Examples:\n",
        "  - Check from where most orders are coming from (State, Corridor, etc.)\n",
        "  - Busiest corridor, average distance between them, average time taken\n",
        "\n",
        "- Recommendations (10 Points)\n",
        "  Actionable items for business. No technical jargon. No complications. Simple action items that everyone can understand."
      ],
      "metadata": {
        "id": "OZSi68oUoxE1"
      }
    },
    {
      "cell_type": "code",
      "execution_count": null,
      "metadata": {
        "id": "rQDv5Ppna4aO"
      },
      "outputs": [],
      "source": []
    }
  ]
}